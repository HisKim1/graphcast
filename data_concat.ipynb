{
 "cells": [
  {
   "cell_type": "markdown",
   "metadata": {},
   "source": [
    "# Data Concatenator\n",
    "\n",
    "## 필요한 Data\n",
    "- surface level ERA5, precipitation 제외\n",
    "- surface level ERA5, precipitation 포함\n",
    "- pressure level ERA5\n",
    "- (optional) TOA solar incident radiation"
   ]
  },
  {
   "cell_type": "code",
   "execution_count": null,
   "metadata": {},
   "outputs": [],
   "source": [
    "import xarray as xr\n",
    "import pandas as pd\n",
    "import numpy as np\n",
    "from graphcast import data_utils\n",
    "import dataclasses\n",
    "from graphcast import graphcast\n",
    "import his_utils\n",
    "import cfgrib"
   ]
  },
  {
   "cell_type": "code",
   "execution_count": null,
   "metadata": {},
   "outputs": [],
   "source": [
    "# set up dataset path \n",
    "ds_surface = \"testdata/2022-01-01/2022-01-01_surface.grib\"\n",
    "ds_surface_precip = \"testdata/2022-01-01/2022-01-01_tp.grib\"\n",
    "ds_pressure_level = \"testdata/2022-01-01/2022-01-01_pressure level.grib\"\n",
    "ds_TOA = \"testdata/2022-01-01/2022-01-01 TOA.grib\""
   ]
  },
  {
   "cell_type": "markdown",
   "metadata": {},
   "source": [
    "# 1. Surface Data w/o Precipitation\n",
    "\n",
    "precipitation 제외하고 받은 6-hrly data 전처리 하는 과정\n",
    "\n",
    "## TODO\n",
    "- dimension 이름 변경\n",
    "- 불필요한 coordinate 삭제\n",
    "- variable 이름 변경 -> 나중에 합치고 한 번에 진행 가능"
   ]
  },
  {
   "cell_type": "code",
   "execution_count": null,
   "metadata": {},
   "outputs": [],
   "source": [
    "ds1 = xr.open_dataset(ds_surface, engine='cfgrib')"
   ]
  },
  {
   "cell_type": "code",
   "execution_count": null,
   "metadata": {},
   "outputs": [],
   "source": [
    "ds1 = ds1.drop(['number', 'step', 'surface', 'valid_time'])\n",
    "ds1 = ds1.rename({\"z\" : \"geopotential_at_surface\"})"
   ]
  },
  {
   "cell_type": "markdown",
   "metadata": {},
   "source": [
    "# 2. Precipitation Data\n",
    "\n",
    "Accumulates 6-hour precipitation into the next time step?\n",
    "or into previous step?\n",
    "\n",
    "## TODO\n",
    "- coordinate 정리\n",
    "- 강수량 합치기"
   ]
  },
  {
   "cell_type": "code",
   "execution_count": null,
   "metadata": {},
   "outputs": [],
   "source": [
    "# 2-1. the time after\n",
    "ds2 = xr.open_dataset(ds_surface_precip, engine='cfgrib')\n",
    "prior = xr.open_dataset(\"testdata/2022-01-01/2021-01-01_tp prior.grib\", engine='cfgrib')\n",
    "\n",
    "prior.to_netcdf(\"testdata/2022-01-01/tp_hourly_prior.nc\")\n",
    "\n",
    "def sync_tp_coords(dataset: xr.Dataset):\n",
    "    dataset = dataset.stack(new_time=['time', 'step'])\n",
    "    dataset = dataset.assign_coords(new_time=dataset.valid_time.values)\n",
    "    dataset = dataset.rename({'new_time': 'time'})\n",
    "    dataset = dataset.drop_vars(['number', 'surface'])\n",
    "    return dataset\n",
    "\n",
    "ds2 = sync_tp_coords(ds2)\n",
    "ds2 = ds2.isel(time=slice(5,None)) #                                          <------- FIX HERE"
   ]
  },
  {
   "cell_type": "code",
   "execution_count": null,
   "metadata": {},
   "outputs": [],
   "source": [
    "# 2-2. the time before\n",
    "\n",
    "prior = sync_tp_coords(prior)\n",
    "prior = prior.isel(time=slice(5,29)) #                                        <------- FIX HERE"
   ]
  },
  {
   "cell_type": "code",
   "execution_count": null,
   "metadata": {},
   "outputs": [],
   "source": [
    "# 2-3. merge the two datasets\n",
    "\n",
    "ds2 = xr.concat([prior, ds2], dim='time')\n",
    "ds2 = ds2.sortby('time')\n",
    "\n",
    "ds2 = ds2.resample(time='6h', closed='right', label='right').sum()\n",
    "ds2 = ds2.isel(time=slice(4, 20)) #                                           <------- FIX HERE"
   ]
  },
  {
   "cell_type": "markdown",
   "metadata": {},
   "source": [
    "# 3. Pressure Level Data\n",
    "\n",
    "37 level data를 처리하는 과정. 17 level이어도 동일한 방식으로 작동하도록 최대한 해보자\n",
    "\n",
    "## TODO\n",
    "- coordinate 정리"
   ]
  },
  {
   "cell_type": "code",
   "execution_count": null,
   "metadata": {},
   "outputs": [],
   "source": [
    "ds3 = xr.open_dataset(ds_pressure_level, engine='cfgrib')"
   ]
  },
  {
   "cell_type": "code",
   "execution_count": null,
   "metadata": {},
   "outputs": [],
   "source": [
    "ds3 = ds3.drop(['number', 'step', 'valid_time'])\n",
    "ds3 = ds3.rename({\"isobaricInhPa\" : \"level\"})\n",
    "ds3 = ds3.sortby('level', ascending=True)\n",
    "\n",
    "level = ds3.level.values\n",
    "level = level.astype(np.int32)\n",
    "\n",
    "ds3 = ds3.assign_coords(level = ('level', level))"
   ]
  },
  {
   "cell_type": "markdown",
   "metadata": {},
   "source": [
    "# (optional) 4. TOA 가공하기\n",
    "\n",
    "구글에서 만든 거랑 내가 다운받은거랑 같다면 상관 없음.\n",
    "다를 경우에는 이거 사용해야 함.\n",
    "\n",
    "$\\therefore$ $\\exists$ noise\n",
    "$\\Rightarrow$ 결과가 미묘하게 달라지지만 유의미해보이지는 않다"
   ]
  },
  {
   "cell_type": "code",
   "execution_count": null,
   "metadata": {},
   "outputs": [],
   "source": [
    "# 4th. TOA\n",
    "ds4 = xr.open_dataset(ds_TOA, engine='cfgrib')\n",
    "\n",
    "ds4 = ds4.stack(new_time=['time', 'step'])\n",
    "ds4 = ds4.assign_coords(new_time=ds4.valid_time.values)\n",
    "ds4 = ds4.rename({'new_time': 'time'})\n",
    "ds4 = ds4.drop_vars(['number', 'surface', 'valid_time'])"
   ]
  },
  {
   "cell_type": "markdown",
   "metadata": {},
   "source": [
    "# 4. 3개의 데이터셋을 하나로 합성하기\n",
    "\n",
    "*ds1*, *ds2*, *ds3*, (*ds4*)를 하나로 합치고 GC에 잘 들어가도록 다듬어주기\n",
    "\n",
    "## TODO\n",
    "- 한 장씩 합치는 게 좋을지, 여러 장 한 번에 합치는 게 좋을지 for memory efficiency\n",
    "- 합쳐서 GC에 잘 들어가는 지까지 확인"
   ]
  },
  {
   "cell_type": "code",
   "execution_count": null,
   "metadata": {},
   "outputs": [],
   "source": [
    "# merge all datasets\n",
    "\n",
    "result = xr.merge([ds1, ds2, ds3, ds4])\n",
    "\n",
    "result = his_utils.transform_dataset(result).copy()\n",
    "\n",
    "if 'batch' in result['geopotential_at_surface'].dims:\n",
    "    result['geopotential_at_surface'] = result['geopotential_at_surface'].squeeze('batch')\n",
    "if 'batch' in result['land_sea_mask'].dims:\n",
    "    result['land_sea_mask'] = result['land_sea_mask'].squeeze('batch')\n",
    "    \n",
    "result = result.reindex(lat=result.lat[::-1])  #                        <------- FIX HERE"
   ]
  },
  {
   "cell_type": "markdown",
   "metadata": {},
   "source": [
    "## 4-1. 파일 명 정하기"
   ]
  },
  {
   "cell_type": "code",
   "execution_count": null,
   "metadata": {},
   "outputs": [],
   "source": [
    "result_path = 'testdata/ERA5_2022-01-01.nc'  #                                          <------- FIX HERE"
   ]
  },
  {
   "cell_type": "markdown",
   "metadata": {},
   "source": [
    "# 5. Output: GC로 준비 갈 완료!"
   ]
  },
  {
   "cell_type": "code",
   "execution_count": null,
   "metadata": {},
   "outputs": [],
   "source": [
    "result.to_netcdf(result_path)"
   ]
  },
  {
   "cell_type": "markdown",
   "metadata": {},
   "source": [
    "---\n",
    "---\n",
    "---\n",
    "---\n",
    "---\n",
    "---\n",
    "---\n",
    "---\n",
    "---\n",
    "---\n",
    "---\n",
    "---\n",
    "\n",
    "# 번외: xarray.resample은 어떻게 작동하는가?\n",
    "\n",
    "| 1 | 2 | 3 | 4 | 5 | 6 | 7 | value\n",
    "\n",
    "| 0 | 1 | 2 | 3 | 4 | 5 | 6 | hr\n",
    "\n",
    "`closed=` 어느 쪽을 닫힌 구간으로 쓸 것인가 $\\Rightarrow$ 어느 쪽을 포함하고 반대쪽을 제외할까\n",
    "\n",
    "`label=` sample한 거를 어느 쪽에 할당할 것인가\n",
    "\n",
    "- case 1) `xarray.resample(\"6h\")`\n",
    "\n",
    "    1 + ... + 6을 0hr에 할당\n",
    "\n",
    "- case 2) `xarray.resample(\"6h\", closed='right', label='right')`\n",
    "\n",
    "    2 + ... + 7을 6hr에 할당"
   ]
  },
  {
   "cell_type": "code",
   "execution_count": null,
   "metadata": {},
   "outputs": [],
   "source": [
    "import pandas as pd\n",
    "import numpy as np\n",
    "\n",
    "# 샘플 데이터 생성 (0시부터 23시까지)\n",
    "date_range = pd.date_range(start='2021-12-31T19:00:00.000000000', end='2022-01-05T06:00:00.000000000', freq='h')\n",
    "data = np.arange(1, 109, 1)\n",
    "ds = pd.Series(data, index=date_range)\n",
    "\n",
    "# 6시간 간격으로 리샘플링\n",
    "ds_resampled = ds.resample('6h', closed='right', label='right').sum()\n",
    "\n",
    "print(\"\\n리샘플링 결과:\")\n",
    "print(ds_resampled)\n",
    "\n",
    "# 각 리샘플링 구간의 시작과 끝 확인\n",
    "for i, value in ds_resampled.items():\n",
    "    start = i\n",
    "    end = i + pd.Timedelta(hours=5)\n",
    "    original_data = ds[start:end]\n",
    "    print(f\"\\n{i}의 리샘플링 구간:\")\n",
    "    print(f\"시작: {start}, 끝: {end}\")\n",
    "    print(\"포함된 원본 데이터:\")\n",
    "    print(original_data)\n",
    "    print(f\"합계: {value}\")"
   ]
  }
 ],
 "metadata": {
  "kernelspec": {
   "display_name": "hiskim1_graphcast",
   "language": "python",
   "name": "python3"
  },
  "language_info": {
   "codemirror_mode": {
    "name": "ipython",
    "version": 3
   },
   "file_extension": ".py",
   "mimetype": "text/x-python",
   "name": "python",
   "nbconvert_exporter": "python",
   "pygments_lexer": "ipython3",
   "version": "3.11.8"
  }
 },
 "nbformat": 4,
 "nbformat_minor": 2
}
