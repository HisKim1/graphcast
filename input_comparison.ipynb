{
 "cells": [
  {
   "cell_type": "markdown",
   "metadata": {},
   "source": [
    "# 시작"
   ]
  },
  {
   "cell_type": "code",
   "execution_count": 1,
   "metadata": {},
   "outputs": [],
   "source": [
    "import xarray as xr\n",
    "import numpy as np\n",
    "import his_utils, his_plot\n",
    "import cartopy.crs as ccrs\n",
    "import cartopy.feature as cfeature\n",
    "import matplotlib.pyplot as plt\n",
    "from matplotlib.colors import TwoSlopeNorm\n",
    "from multiprocessing import Pool"
   ]
  },
  {
   "cell_type": "code",
   "execution_count": 2,
   "metadata": {},
   "outputs": [
    {
     "name": "stdout",
     "output_type": "stream",
     "text": [
      "figure/diff total_precipitation_6hr_1.png saved\n",
      "figure/diff total_precipitation_6hr_0.png saved\n",
      "figure/diff total_precipitation_6hr_8.png saved\n",
      "figure/diff total_precipitation_6hr_9.png savedfigure/diff total_precipitation_6hr_2.png saved\n",
      "\n",
      "figure/diff total_precipitation_6hr_4.png saved\n",
      "figure/diff total_precipitation_6hr_5.png saved\n",
      "figure/diff total_precipitation_6hr_7.png savedfigure/diff total_precipitation_6hr_6.png saved\n",
      "\n",
      "figure/diff total_precipitation_6hr_3.png saved\n",
      "figure/diff mean_sea_level_pressure_0.png saved\n",
      "figure/diff mean_sea_level_pressure_7.png saved\n",
      "figure/diff mean_sea_level_pressure_5.png saved\n",
      "figure/diff mean_sea_level_pressure_8.png saved\n",
      "figure/diff mean_sea_level_pressure_9.png saved\n",
      "figure/diff mean_sea_level_pressure_2.png saved\n",
      "figure/diff mean_sea_level_pressure_6.png saved\n",
      "figure/diff mean_sea_level_pressure_4.png savedfigure/diff mean_sea_level_pressure_1.png saved\n",
      "\n",
      "figure/diff mean_sea_level_pressure_3.png saved\n",
      "figure/diff 2m_temperature_1.png saved\n",
      "figure/diff 2m_temperature_8.png saved\n",
      "figure/diff 2m_temperature_2.png saved\n",
      "figure/diff 2m_temperature_9.png saved\n",
      "figure/diff 2m_temperature_7.png saved\n",
      "figure/diff 2m_temperature_4.png saved\n",
      "figure/diff 2m_temperature_5.png saved\n",
      "figure/diff 2m_temperature_3.png saved\n",
      "figure/diff 2m_temperature_0.png saved\n",
      "figure/diff 2m_temperature_6.png saved\n"
     ]
    }
   ],
   "source": [
    "# 서로 다른 dataset별로 어떻게 생겨먹었는지 다 plot해서 뽑아버리기\n",
    "\n",
    "target_var_list = ['total_precipitation_6hr', \n",
    "                   'mean_sea_level_pressure', \n",
    "                   '2m_temperature']\n",
    "\n",
    "max_time_step = 10\n",
    "\n",
    "ERA5 = xr.open_dataset(\"testdata/2022-01-01/ERA5_2022-01-01.nc\")\n",
    "google = xr.open_dataset('testdata/2022-01-01/source-era5_date-2022-01-01_res-0.25_levels-37_steps-12.nc')\n",
    "    \n",
    "ERA5 = his_utils.convert_scale(ERA5)\n",
    "google = his_utils.convert_scale(google)\n",
    "\n",
    "for var in target_var_list:\n",
    "    if 'level' in ERA5[var].dims:\n",
    "        diff = (ERA5[var] - google[var]).mean(dim='level')\n",
    "    else:\n",
    "        diff = ERA5[var] - google[var]\n",
    "\n",
    "    weights = np.cos(np.deg2rad(diff.lat))\n",
    "    weights.name = \"weights\"\n",
    "    weighted = diff.weighted(weights)\n",
    "    std_val = weighted.std(('lat', 'lon')).max()\n",
    "    \n",
    "    norm = TwoSlopeNorm(vmin=-1.5*std_val, vcenter=0, vmax=1.5*std_val)\n",
    "\n",
    "    arg_list = [(diff.isel(time=time_index, lat=slice(0, 90), lon=slice(20, 150)), \n",
    "                 var, \n",
    "                 \"platecarree\", \n",
    "                 \"RdBu_r\", \n",
    "                 f'{var} difference at t:{time_index}', \n",
    "                 f'figure/diff {var}_{time_index}.png',\n",
    "                 norm)\n",
    "        for time_index in range(max_time_step)]\n",
    "\n",
    "    with Pool() as pool:\n",
    "        pool.map(his_plot.plot, arg_list)"
   ]
  },
  {
   "cell_type": "code",
   "execution_count": null,
   "metadata": {},
   "outputs": [],
   "source": [
    "# calculate weighted means & max value of each variables\n",
    "ERA5 = xr.open_dataset(\"testdata/2022-01-01_tp.grib\")\n",
    "ERA5 = ERA5.stack(new_time=['time', 'step'])\n",
    "ERA5 = ERA5.assign_coords(new_time=ERA5.valid_time.values)\n",
    "ERA5 = ERA5.rename({'new_time': 'time'})\n",
    "\n",
    "ERA5 = ERA5.drop_vars(['number', 'surface'])\n",
    "tp = \"tp\"\n",
    "\n",
    "weights = np.cos(np.deg2rad(ERA5.latitude))\n",
    "weights.name = \"weights\"\n",
    "\n",
    "mean_ERA = {}\n",
    "mean_google = {}\n",
    "\n",
    "max_ERA = {}\n",
    "max_google = {}\n",
    "\n",
    "for t in range(0, 14):\n",
    "    mean_ERA[t]=ERA5[tp].isel(time=t).weighted(weights).mean(('latitude', 'longitude')).values * 1000\n",
    "    # mean_google[t]=ERA5[tp].isel(time=t).weighted(weights).mean(('lat', 'lon')).values\n",
    "\n",
    "    max_ERA[t]=ERA5[tp].isel(time=t).max(('latitude', 'longitude')).values * 1000\n",
    "    # max_google[t]=ERA5[tp].isel(time=t).max(('lat', 'lon')).values\n",
    "\n",
    "# for var in ERA5.data_vars:\n",
    "#     if var not in ['land_sea_mask', 'geopotential_at_surface']:\n",
    "#         if 'level' in ERA5[var].dims:\n",
    "#             mean_ERA[var]=ERA5[var].isel(time=t).weighted(weights).mean(('lat', 'lon')).mean(dim='level').values\n",
    "#             mean_google[var]=ERA5[var].isel(time=t).weighted(weights).mean(('lat', 'lon')).mean(dim='level').values\n",
    "#         else:\n",
    "#             mean_ERA[var]=ERA5[var].isel(time=t).weighted(weights).mean(('lat', 'lon')).values\n",
    "#             mean_google[var]=ERA5[var].isel(time=t).weighted(weights).mean(('lat', 'lon')).values\n",
    "        \n",
    "#     else:\n",
    "#         mean_ERA[var]=ERA5[var].weighted(weights).mean(('lat', 'lon')).values\n",
    "#         mean_google[var]=ERA5[var].weighted(weights).mean(('lat', 'lon')).values"
   ]
  },
  {
   "cell_type": "code",
   "execution_count": null,
   "metadata": {},
   "outputs": [],
   "source": [
    "mean_ERA - mean_google"
   ]
  }
 ],
 "metadata": {
  "kernelspec": {
   "display_name": "hiskim1_graphcast",
   "language": "python",
   "name": "python3"
  },
  "language_info": {
   "codemirror_mode": {
    "name": "ipython",
    "version": 3
   },
   "file_extension": ".py",
   "mimetype": "text/x-python",
   "name": "python",
   "nbconvert_exporter": "python",
   "pygments_lexer": "ipython3",
   "version": "3.11.8"
  }
 },
 "nbformat": 4,
 "nbformat_minor": 2
}
